{
  "nbformat": 4,
  "nbformat_minor": 0,
  "metadata": {
    "colab": {
      "provenance": [],
      "toc_visible": true,
      "authorship_tag": "ABX9TyMEirN7jEdt3do54mZo5DKy",
      "include_colab_link": true
    },
    "kernelspec": {
      "name": "python3",
      "display_name": "Python 3"
    },
    "language_info": {
      "name": "python"
    }
  },
  "cells": [
    {
      "cell_type": "markdown",
      "metadata": {
        "id": "view-in-github",
        "colab_type": "text"
      },
      "source": [
        "<a href=\"https://colab.research.google.com/github/dqminhv/fellowship_ai-nlp-challenge/blob/main/notebook/nlp_challenge_modeling.ipynb\" target=\"_parent\"><img src=\"https://colab.research.google.com/assets/colab-badge.svg\" alt=\"Open In Colab\"/></a>"
      ]
    },
    {
      "cell_type": "markdown",
      "source": [
        "# Import Required Packages & Load Data"
      ],
      "metadata": {
        "id": "Cx8_UFKwaZ_C"
      }
    },
    {
      "cell_type": "code",
      "execution_count": 1,
      "metadata": {
        "id": "krd36bekZNcG"
      },
      "outputs": [],
      "source": [
        "#Ignore warnings in Google Colab\n",
        "import warnings\n",
        "# Ignore all warnings (not recommended in general)\n",
        "warnings.filterwarnings(\"ignore\")"
      ]
    },
    {
      "cell_type": "code",
      "source": [
        "#Mount Google Drive to access the IMDB Review file\n",
        "from google.colab import drive\n",
        "drive.mount('/content/gdrive')"
      ],
      "metadata": {
        "colab": {
          "base_uri": "https://localhost:8080/"
        },
        "id": "0Ljhz95QalnL",
        "outputId": "f870df50-2c9c-4d59-e7ea-f65b4eb6c63b"
      },
      "execution_count": 2,
      "outputs": [
        {
          "output_type": "stream",
          "name": "stdout",
          "text": [
            "Mounted at /content/gdrive\n"
          ]
        }
      ]
    },
    {
      "cell_type": "code",
      "source": [
        "#Import required packages\n",
        "import pandas as pd\n",
        "import numpy as np\n",
        "import seaborn as sns\n",
        "import matplotlib.pyplot as plt"
      ],
      "metadata": {
        "id": "33_Tjd9uaobB"
      },
      "execution_count": 3,
      "outputs": []
    },
    {
      "cell_type": "code",
      "source": [
        "from sklearn.model_selection import train_test_split\n",
        "\n",
        "from sklearn.ensemble import RandomForestClassifier\n",
        "from sklearn.linear_model import LogisticRegression\n",
        "import xgboost as xgb\n",
        "\n",
        "from sklearn.metrics import accuracy_score, confusion_matrix, classification_report"
      ],
      "metadata": {
        "id": "TdHeN7xCao7Z"
      },
      "execution_count": 37,
      "outputs": []
    },
    {
      "cell_type": "code",
      "source": [
        "X_file_path = '/content/gdrive/MyDrive/Document/Data Science/Skills Development/fellowshipai/X.csv'\n",
        "y_file_path = '/content/gdrive/MyDrive/Document/Data Science/Skills Development/fellowshipai/y.csv'\n",
        "\n",
        "X = pd.read_csv(X_file_path)\n",
        "y = pd.read_csv(y_file_path)"
      ],
      "metadata": {
        "id": "sr__vwwyc6d6"
      },
      "execution_count": 5,
      "outputs": []
    },
    {
      "cell_type": "code",
      "source": [
        "#Train/test split\n",
        "X_train, X_test, y_train, y_test = train_test_split(X, y, test_size=0.2, random_state=42)"
      ],
      "metadata": {
        "id": "QjXsbA9KvqNa"
      },
      "execution_count": 8,
      "outputs": []
    },
    {
      "cell_type": "markdown",
      "source": [
        "# Ensemble Method: Random Forest"
      ],
      "metadata": {
        "id": "n6VSlGKPvaAU"
      }
    },
    {
      "cell_type": "code",
      "source": [
        "rf = RandomForestClassifier(n_estimators=100, random_state=0)\n",
        "rf.fit(X_train, y_train)\n",
        "\n",
        "# Make predictions on new data\n",
        "y_pred = rf.predict(X_test)\n",
        "\n",
        "# Evaluate the model\n",
        "accuracy = accuracy_score(y_test, y_pred)\n",
        "print(\"Accuracy:\", accuracy)\n",
        "\n",
        "# Generate a confusion matrix\n",
        "cm = confusion_matrix(y_test, y_pred) / len(y_test)\n",
        "print(\"Confusion Matrix:\")\n",
        "print(cm)"
      ],
      "metadata": {
        "id": "7Tm3qCBcvg3q",
        "outputId": "41ddd637-7676-4645-9c94-2ed4ea946138",
        "colab": {
          "base_uri": "https://localhost:8080/"
        }
      },
      "execution_count": 10,
      "outputs": [
        {
          "output_type": "stream",
          "name": "stdout",
          "text": [
            "Accuracy: 0.8314\n",
            "Confusion Matrix:\n",
            "[[0.4139 0.0822]\n",
            " [0.0864 0.4175]]\n"
          ]
        }
      ]
    },
    {
      "cell_type": "markdown",
      "source": [
        "## Feature Importance"
      ],
      "metadata": {
        "id": "KXUWfQ6o5NTg"
      }
    },
    {
      "cell_type": "code",
      "source": [
        "# Get feature importances from the model\n",
        "importances = rf.feature_importances_\n",
        "\n",
        "# Select the first 500 features and their importances\n",
        "top_800_features = importances[:800]\n",
        "\n",
        "# Sort features and importances together by importance (descending order)\n",
        "sorted_indices = np.argsort(top_800_features)[::-1]\n",
        "sorted_importances = top_800_features[sorted_indices]\n",
        "\n",
        "# Calculate cumulative importance\n",
        "cumulative_importance = np.cumsum(sorted_importances)"
      ],
      "metadata": {
        "id": "OHkerGlvwxc7"
      },
      "execution_count": 56,
      "outputs": []
    },
    {
      "cell_type": "code",
      "source": [
        "# Plot cumulative feature importance\n",
        "plt.figure(figsize=(10, 6))\n",
        "plt.plot(range(1, len(sorted_importances) + 1), cumulative_importance, marker='.', linestyle='-', label='Cumulative Importance')\n",
        "plt.xlabel('Feature Number')\n",
        "plt.ylabel('Cumulative Importance')\n",
        "plt.title('Cumulative Feature Importance of The first 800 Features - Random Forest')\n",
        "plt.tight_layout()\n",
        "plt.show()"
      ],
      "metadata": {
        "id": "UQC3T-2B3lMC",
        "outputId": "012397f8-c241-4cc6-ed41-34296be59884",
        "colab": {
          "base_uri": "https://localhost:8080/",
          "height": 607
        }
      },
      "execution_count": 59,
      "outputs": [
        {
          "output_type": "display_data",
          "data": {
            "text/plain": [
              "<Figure size 1000x600 with 1 Axes>"
            ],
            "image/png": "[encoded data removed]"
          },
          "metadata": {}
        }
      ]
    },
    {
      "cell_type": "markdown",
      "source": [
        "# Linear Model: Logistic Regression"
      ],
      "metadata": {
        "id": "IjalYe2tcqBQ"
      }
    },
    {
      "cell_type": "code",
      "source": [
        "# Train the Logistic Regression model\n",
        "lg = LogisticRegression(solver='liblinear')\n",
        "lg.fit(X_train, y_train)\n",
        "\n",
        "# Make predictions on new data\n",
        "y_pred = lg.predict(X_test)\n",
        "\n",
        "# Evaluate the model\n",
        "accuracy2 = accuracy_score(y_test, y_pred)\n",
        "print(\"Accuracy:\", accuracy)\n",
        "\n",
        "# Generate a confusion matrix\n",
        "cm2 = confusion_matrix(y_test, y_pred) / len(y_test)\n",
        "print(\"Confusion Matrix:\")\n",
        "print(cm2)"
      ],
      "metadata": {
        "id": "2ZLjkQmtcpn5",
        "outputId": "d87833b8-bcfa-4168-f00c-c62cbae42886",
        "colab": {
          "base_uri": "https://localhost:8080/"
        }
      },
      "execution_count": 23,
      "outputs": [
        {
          "output_type": "stream",
          "name": "stdout",
          "text": [
            "Accuracy: 0.8621\n",
            "Confusion Matrix:\n",
            "[[0.4227 0.0734]\n",
            " [0.0645 0.4394]]\n"
          ]
        }
      ]
    }
  ]
}