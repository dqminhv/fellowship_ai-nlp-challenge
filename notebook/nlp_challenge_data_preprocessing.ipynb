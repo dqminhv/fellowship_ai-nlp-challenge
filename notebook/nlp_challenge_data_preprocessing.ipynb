{
  "nbformat": 4,
  "nbformat_minor": 0,
  "metadata": {
    "colab": {
      "provenance": [],
      "toc_visible": true,
      "authorship_tag": "ABX9TyMYe+8IZYHlv8u9E2Iw56BF",
      "include_colab_link": true
    },
    "kernelspec": {
      "name": "python3",
      "display_name": "Python 3"
    },
    "language_info": {
      "name": "python"
    }
  },
  "cells": [
    {
      "cell_type": "markdown",
      "metadata": {
        "id": "view-in-github",
        "colab_type": "text"
      },
      "source": [
        "<a href=\"https://colab.research.google.com/github/dqminhv/fellowship_ai-nlp-challenge/blob/main/notebook/nlp_challenge_data_preprocessing.ipynb\" target=\"_parent\"><img src=\"https://colab.research.google.com/assets/colab-badge.svg\" alt=\"Open In Colab\"/></a>"
      ]
    },
    {
      "cell_type": "markdown",
      "source": [
        "# Import Required Packages & Load Data"
      ],
      "metadata": {
        "id": "wQ0DTo8-YPPJ"
      }
    },
    {
      "cell_type": "code",
      "source": [
        "#Ignore warnings in Google Colab\n",
        "import warnings\n",
        "# Ignore all warnings (not recommended in general)\n",
        "warnings.filterwarnings(\"ignore\")"
      ],
      "metadata": {
        "id": "z24UZcQBT-1B"
      },
      "execution_count": 1,
      "outputs": []
    },
    {
      "cell_type": "code",
      "source": [
        "#Mount Google Drive to access the IMDB Review file\n",
        "from google.colab import drive\n",
        "drive.mount('/content/gdrive')"
      ],
      "metadata": {
        "colab": {
          "base_uri": "https://localhost:8080/"
        },
        "id": "LWNzArq9UCcI",
        "outputId": "5c0d472d-5e45-417a-816d-e4923da39b89"
      },
      "execution_count": 2,
      "outputs": [
        {
          "output_type": "stream",
          "name": "stdout",
          "text": [
            "Mounted at /content/gdrive\n"
          ]
        }
      ]
    },
    {
      "cell_type": "code",
      "source": [
        "#Import required packages\n",
        "import pandas as pd\n",
        "import numpy as np\n",
        "import seaborn as sns\n",
        "import matplotlib.pyplot as plt\n",
        "from sklearn.feature_extraction.text import TfidfVectorizer\n",
        "from nltk.tokenize import word_tokenize\n",
        "from nltk.stem import PorterStemmer"
      ],
      "metadata": {
        "id": "rWY4QtTQUFVI"
      },
      "execution_count": 3,
      "outputs": []
    },
    {
      "cell_type": "markdown",
      "source": [
        "# Data Preprocessing & Features Engineering"
      ],
      "metadata": {
        "id": "E9NKXfaRT3lk"
      }
    },
    {
      "cell_type": "code",
      "execution_count": 9,
      "metadata": {
        "id": "Y2PPE9ygTs9V"
      },
      "outputs": [],
      "source": [
        "#Load csv file to a pandas DataFrame\n",
        "file_path = '/content/gdrive/MyDrive/Document/Data Science/Skills Development/fellowshipai/imdb-cleaned.csv'\n",
        "imdb_cleaned = pd.read_csv(file_path)"
      ]
    },
    {
      "cell_type": "code",
      "source": [
        "#Stemming the review column\n",
        "stemmer = PorterStemmer()\n",
        "imdb_cleaned['stemmed_review'] = imdb_cleaned['review'].apply(lambda x: ' '.join([stemmer.stem(word) for word in x.split()]))"
      ],
      "metadata": {
        "id": "rVFLD5wDUTd9"
      },
      "execution_count": 11,
      "outputs": []
    },
    {
      "cell_type": "code",
      "source": [
        "#TF-IDF vectorizer\n",
        "tfidf_vectorizer = TfidfVectorizer(max_features=5000, min_df=2, max_df=.8, ngram_range=(1,2))\n",
        "X_review = tfidf_vectorizer.fit_transform(imdb_cleaned['stemmed_review'])"
      ],
      "metadata": {
        "id": "RQSy1kpiWUHJ"
      },
      "execution_count": 12,
      "outputs": []
    },
    {
      "cell_type": "code",
      "source": [
        "#Convert TF-IDF matrix to a DataFrame\n",
        "X = pd.DataFrame(X_review.toarray(), columns=tfidf_vectorizer.get_feature_names_out())"
      ],
      "metadata": {
        "id": "YRZRynTLUZ34"
      },
      "execution_count": 13,
      "outputs": []
    },
    {
      "cell_type": "code",
      "source": [
        "#Convert values in sentiment column to binary\n",
        "imdb_cleaned['sentiment'] = imdb_cleaned['sentiment'].map({'positive': 1, 'negative': 0})"
      ],
      "metadata": {
        "id": "ps09ISFpUbr4"
      },
      "execution_count": 14,
      "outputs": []
    },
    {
      "cell_type": "code",
      "source": [
        "y = imdb_cleaned['sentiment']"
      ],
      "metadata": {
        "id": "luITn_0NY20z"
      },
      "execution_count": 15,
      "outputs": []
    },
    {
      "cell_type": "markdown",
      "source": [
        "# Exporting Cleaned Data for Modeling"
      ],
      "metadata": {
        "id": "xSCsDP_FaI9i"
      }
    },
    {
      "cell_type": "code",
      "source": [
        "X_file_path = '/content/gdrive/MyDrive/Document/Data Science/Skills Development/fellowshipai/X.csv'\n",
        "X.to_csv(file_path, index=False)"
      ],
      "metadata": {
        "id": "waujLNeqaIuL"
      },
      "execution_count": 18,
      "outputs": []
    },
    {
      "cell_type": "code",
      "source": [
        "y_file_path = '/content/gdrive/MyDrive/Document/Data Science/Skills Development/fellowshipai/y.csv'\n",
        "y.to_csv(file_path, index=False)"
      ],
      "metadata": {
        "id": "XHemUs_nacyj"
      },
      "execution_count": 19,
      "outputs": []
    }
  ]
}